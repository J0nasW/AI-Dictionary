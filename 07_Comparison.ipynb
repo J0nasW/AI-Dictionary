{
 "cells": [
  {
   "cell_type": "code",
   "execution_count": 1,
   "metadata": {},
   "outputs": [],
   "source": [
    "import pandas as pd\n",
    "pd.options.mode.chained_assignment = None  # default='warn'\n",
    "\n",
    "import logging\n",
    "logging.basicConfig(level=logging.ERROR)\n",
    "\n",
    "# Import plotly\n",
    "import plotly.graph_objs as go\n",
    "from plotly.subplots import make_subplots\n",
    "\n",
    "from tqdm.auto import tqdm\n",
    "tqdm.pandas()\n",
    "\n",
    "import os\n",
    "from helper.keyword_helper import make_weight_wordtrie\n",
    "from helper.wordtrie_builder import WordTrie"
   ]
  },
  {
   "cell_type": "code",
   "execution_count": 2,
   "metadata": {},
   "outputs": [],
   "source": [
    "DICT_PATH = \"data/dictionaries\"\n",
    "SAMPLE_PATH = \"data/samples\""
   ]
  },
  {
   "cell_type": "code",
   "execution_count": 3,
   "metadata": {},
   "outputs": [
    {
     "name": "stdout",
     "output_type": "stream",
     "text": [
      "Using prepared samples...\n",
      "Done.\n"
     ]
    }
   ],
   "source": [
    "print(\"Using prepared samples...\")\n",
    "try:\n",
    "    positive_sample = pd.read_parquet(os.path.join(SAMPLE_PATH, \"positive_sample.parquet\"))\n",
    "    negative_sample = pd.read_parquet(os.path.join(SAMPLE_PATH, \"negative_sample.parquet\"))\n",
    "    print(\"Done.\")\n",
    "except:\n",
    "    print(\"Samples not found. Try running the helper function first.\")"
   ]
  },
  {
   "cell_type": "code",
   "execution_count": 4,
   "metadata": {},
   "outputs": [
    {
     "name": "stdout",
     "output_type": "stream",
     "text": [
      "Using the weighted dictionary...\n",
      "Got 52747 rows from dictionary.csv\n",
      "Done.\n"
     ]
    }
   ],
   "source": [
    "print(\"Using the weighted dictionary...\")\n",
    "try:\n",
    "    dict_df = pd.read_csv(os.path.join(DICT_PATH, \"dictionary_weights.csv\"))\n",
    "    print(f\"Got {len(dict_df)} rows from dictionary.csv\")\n",
    "    dict_df[\"trie_id\"] = dict_df.index\n",
    "    print(\"Done.\")\n",
    "except:\n",
    "    print(\"Dictionary not found. Try running the helper function first.\")"
   ]
  },
  {
   "cell_type": "code",
   "execution_count": 5,
   "metadata": {},
   "outputs": [],
   "source": [
    "wordtrie = WordTrie(word_filter=True, text_filter=True, show_progress_bar=True, weights=True)\n",
    "\n",
    "trie_dict = {\n",
    "    \"core_all\": wordtrie.from_json(\"data/dictionaries/tries/core_trie.json\"),\n",
    "    \"core_cso\": wordtrie.from_json(\"data/dictionaries/tries/core_cso_trie.json\"),\n",
    "    \"core_method\": wordtrie.from_json(\"data/dictionaries/tries/core_method_trie.json\"),\n",
    "    \"core_task\": wordtrie.from_json(\"data/dictionaries/tries/core_task_trie.json\"),\n",
    "    \"extended_all\": wordtrie.from_json(\"data/dictionaries/tries/extended_trie.json\"),\n",
    "    \"extended_cso\": wordtrie.from_json(\"data/dictionaries/tries/extended_cso_trie.json\"),\n",
    "    \"extended_method\": wordtrie.from_json(\"data/dictionaries/tries/extended_method_trie.json\"),\n",
    "    \"extended_task\": wordtrie.from_json(\"data/dictionaries/tries/extended_task_trie.json\"),\n",
    "    \"all\": wordtrie.from_json(\"data/dictionaries/tries/all_trie.json\"),\n",
    "    \"cso\": wordtrie.from_json(\"data/dictionaries/tries/all_cso_trie.json\"),\n",
    "    \"method\": wordtrie.from_json(\"data/dictionaries/tries/all_method_trie.json\"),\n",
    "    \"task\": wordtrie.from_json(\"data/dictionaries/tries/all_task_trie.json\"),\n",
    "}"
   ]
  },
  {
   "cell_type": "code",
   "execution_count": 6,
   "metadata": {},
   "outputs": [
    {
     "name": "stdout",
     "output_type": "stream",
     "text": [
      "Weights are enabled.\n"
     ]
    },
    {
     "name": "stderr",
     "output_type": "stream",
     "text": [
      "100%|██████████| 52747/52747 [00:01<00:00, 32931.52it/s]\n"
     ]
    },
    {
     "data": {
      "application/vnd.jupyter.widget-view+json": {
       "model_id": "eb276c138827460d822c8f240d2a1b44",
       "version_major": 2,
       "version_minor": 0
      },
      "text/plain": [
       "  0%|          | 0/592158 [00:00<?, ?it/s]"
      ]
     },
     "metadata": {},
     "output_type": "display_data"
    },
    {
     "data": {
      "application/vnd.jupyter.widget-view+json": {
       "model_id": "19fbd46e1e6a4e86827d274c77bcadb8",
       "version_major": 2,
       "version_minor": 0
      },
      "text/plain": [
       "  0%|          | 0/402501 [00:00<?, ?it/s]"
      ]
     },
     "metadata": {},
     "output_type": "display_data"
    }
   ],
   "source": [
    "dict_df_process = dict_df.copy()\n",
    "dict_df_process_trie = make_weight_wordtrie(dict_df_process[\"keyword\"].tolist(), dict_df_process[\"trie_id\"].tolist(), dict_df_process[\"weight\"].tolist())\n",
    "\n",
    "negative_sample_metadata = negative_sample['text'].progress_apply(lambda x: dict_df_process_trie.aggregate_search_info(x))\n",
    "negative_sample[f\"test_trie_abs\"] = negative_sample_metadata.apply(lambda x: x[0])\n",
    "negative_sample[f\"test_trie_ratio\"] = negative_sample_metadata.apply(lambda x: x[1])\n",
    "negative_sample[f\"test_trie_score\"] = negative_sample_metadata.apply(lambda x: x[2])\n",
    "negative_sample[f\"test_trie_abs_score\"] = negative_sample_metadata.apply(lambda x: x[3])\n",
    "\n",
    "positive_sample_metadata = positive_sample['text'].progress_apply(lambda x: dict_df_process_trie.aggregate_search_info(x))\n",
    "positive_sample[f\"test_trie_abs\"] = positive_sample_metadata.apply(lambda x: x[0])\n",
    "positive_sample[f\"test_trie_ratio\"] = positive_sample_metadata.apply(lambda x: x[1])\n",
    "positive_sample[f\"test_trie_score\"] = positive_sample_metadata.apply(lambda x: x[2])\n",
    "positive_sample[f\"test_trie_abs_score\"] = positive_sample_metadata.apply(lambda x: x[3])"
   ]
  },
  {
   "cell_type": "code",
   "execution_count": 7,
   "metadata": {},
   "outputs": [
    {
     "name": "stdout",
     "output_type": "stream",
     "text": [
      "OpenAlex Negative Sample\n",
      "Mean of test_trie_abs: 8.059498145270998\n",
      "Mean of test_trie_ratio: 0.10291973550721949\n",
      "Mean of test_trie_score: 0.041713259812606415\n",
      "Mean of test_trie_abs_score: 0.34729673517150805\n",
      "\n",
      "Std of test_trie_abs: 6.949749714426807\n",
      "Std of test_trie_ratio: 0.05341637378328754\n",
      "Std of test_trie_score: 0.026344940550138637\n",
      "Std of test_trie_abs_score: 0.3926009669424632\n",
      "\n",
      "PwC AI Papers\n",
      "Mean of test_trie_abs: 30.537694606383162\n",
      "Mean of test_trie_ratio: 0.2978932872416225\n",
      "Mean of test_trie_score: 0.10257388759599163\n",
      "Mean of test_trie_abs_score: 3.217836503334107\n",
      "\n",
      "Std of test_trie_abs: 12.828419072255468\n",
      "Std of test_trie_ratio: 0.08909906925816666\n",
      "Std of test_trie_score: 0.03735244684172729\n",
      "Std of test_trie_abs_score: 1.8440119099162733\n"
     ]
    }
   ],
   "source": [
    "negative_sample_plot = negative_sample[negative_sample[\"test_trie_abs_score\"] > 0.01]\n",
    "positive_sample_plot = positive_sample[positive_sample[\"test_trie_abs_score\"] > 0.01]\n",
    "negative_sample_plot = negative_sample_plot[negative_sample_plot[\"test_trie_score\"] < 0.9]\n",
    "positive_sample_plot = positive_sample_plot[positive_sample_plot[\"test_trie_score\"] < 0.9]\n",
    "\n",
    "# Make a subplot with 4 histograms (2x2) \n",
    "fig = make_subplots(\n",
    "    rows=2,\n",
    "    cols=2,\n",
    "    subplot_titles=[\"Trie Search Absolute Count\", \"Trie Search Ratio (len(Words) div len(Abstract)\", \"Trie Search Weighted Mean\", \"Trie Search Absolute weighted\"],\n",
    ")\n",
    "\n",
    "# Add histograms\n",
    "fig.add_trace(go.Histogram(x=negative_sample_plot[\"test_trie_abs\"], opacity=0.75, name=\"Negative Sample\", marker=dict(color=\"red\")), row=1, col=1)\n",
    "fig.add_trace(go.Histogram(x=positive_sample_plot[\"test_trie_abs\"], opacity=0.75, name=\"Positive Sample\", marker=dict(color=\"blue\")), row=1, col=1)\n",
    "fig.add_trace(go.Histogram(x=negative_sample_plot[\"test_trie_ratio\"], opacity=0.75, name=\"Negative Sample\", marker=dict(color=\"red\")), row=1, col=2)\n",
    "fig.add_trace(go.Histogram(x=positive_sample_plot[\"test_trie_ratio\"], opacity=0.75, name=\"Positive Sample\", marker=dict(color=\"blue\")), row=1, col=2)\n",
    "fig.add_trace(go.Histogram(x=negative_sample_plot[\"test_trie_score\"], opacity=0.75, name=\"Negative Sample\", marker=dict(color=\"red\")), row=2, col=1)\n",
    "fig.add_trace(go.Histogram(x=positive_sample_plot[\"test_trie_score\"], opacity=0.75, name=\"Positive Sample\", marker=dict(color=\"blue\")), row=2, col=1)\n",
    "fig.add_trace(go.Histogram(x=negative_sample_plot[\"test_trie_abs_score\"], opacity=0.75, name=\"Negative Sample\", marker=dict(color=\"red\")), row=2, col=2)\n",
    "fig.add_trace(go.Histogram(x=positive_sample_plot[\"test_trie_abs_score\"], opacity=0.75, name=\"Positive Sample\", marker=dict(color=\"blue\")), row=2, col=2)\n",
    "# Update yaxis to log scale\n",
    "# fig.update_yaxes(type='log', row=1, col=1)\n",
    "# fig.update_yaxes(type='log', row=1, col=2)\n",
    "# fig.update_yaxes(type='log', row=2, col=1)\n",
    "# fig.update_yaxes(type='log', row=2, col=2)\n",
    "\n",
    "# Update title and height\n",
    "fig.update_layout(title_text=\"Histograms of Trie Search Results\")\n",
    "fig.write_html(\"plots/test_histograms.html\")\n",
    "\n",
    "# Calculate mean and standard deviation of all 4 columns\n",
    "print(\"OpenAlex Negative Sample\")\n",
    "print(f\"Mean of test_trie_abs: {negative_sample_plot['test_trie_abs'].mean()}\")\n",
    "print(f\"Mean of test_trie_ratio: {negative_sample_plot['test_trie_ratio'].mean()}\")\n",
    "print(f\"Mean of test_trie_score: {negative_sample_plot['test_trie_score'].mean()}\")\n",
    "print(f\"Mean of test_trie_abs_score: {negative_sample_plot['test_trie_abs_score'].mean()}\")\n",
    "print(\"\")\n",
    "print(f\"Std of test_trie_abs: {negative_sample_plot['test_trie_abs'].std()}\")\n",
    "print(f\"Std of test_trie_ratio: {negative_sample_plot['test_trie_ratio'].std()}\")\n",
    "print(f\"Std of test_trie_score: {negative_sample_plot['test_trie_score'].std()}\")\n",
    "print(f\"Std of test_trie_abs_score: {negative_sample_plot['test_trie_abs_score'].std()}\")\n",
    "print(\"\")\n",
    "print(\"PwC AI Papers\")\n",
    "print(f\"Mean of test_trie_abs: {positive_sample_plot['test_trie_abs'].mean()}\")\n",
    "print(f\"Mean of test_trie_ratio: {positive_sample_plot['test_trie_ratio'].mean()}\")\n",
    "print(f\"Mean of test_trie_score: {positive_sample_plot['test_trie_score'].mean()}\")\n",
    "print(f\"Mean of test_trie_abs_score: {positive_sample_plot['test_trie_abs_score'].mean()}\")\n",
    "print(\"\")\n",
    "print(f\"Std of test_trie_abs: {positive_sample_plot['test_trie_abs'].std()}\")\n",
    "print(f\"Std of test_trie_ratio: {positive_sample_plot['test_trie_ratio'].std()}\")\n",
    "print(f\"Std of test_trie_score: {positive_sample_plot['test_trie_score'].std()}\")\n",
    "print(f\"Std of test_trie_abs_score: {positive_sample_plot['test_trie_abs_score'].std()}\")\n",
    "\n",
    "# Make boxplots of all 4 columns\n",
    "fig = make_subplots(\n",
    "    rows=2,\n",
    "    cols=2,\n",
    "    subplot_titles=[\"Trie Search Absolute Count\", \"Trie Search Ratio (len(Words) div len(Abstract)\", \"Trie Search Weighted Mean\", \"Trie Search Absolute weighted\"],\n",
    ")\n",
    "\n",
    "# Add boxplots\n",
    "fig.add_trace(go.Box(y=negative_sample_plot[\"test_trie_abs\"], name=\"Negative Sample\", marker=dict(color=\"red\")), row=1, col=1)\n",
    "fig.add_trace(go.Box(y=positive_sample_plot[\"test_trie_abs\"], name=\"Positive Sample\", marker=dict(color=\"blue\")), row=1, col=1)\n",
    "fig.add_trace(go.Box(y=negative_sample_plot[\"test_trie_ratio\"], name=\"Negative Sample\", marker=dict(color=\"red\")), row=1, col=2)\n",
    "fig.add_trace(go.Box(y=positive_sample_plot[\"test_trie_ratio\"], name=\"Positive Sample\", marker=dict(color=\"blue\")), row=1, col=2)\n",
    "\n",
    "fig.add_trace(go.Box(y=negative_sample_plot[\"test_trie_score\"], name=\"Negative Sample\", marker=dict(color=\"red\")), row=2, col=1)\n",
    "fig.add_trace(go.Box(y=positive_sample_plot[\"test_trie_score\"], name=\"Positive Sample\", marker=dict(color=\"blue\")), row=2, col=1)\n",
    "fig.add_trace(go.Box(y=negative_sample_plot[\"test_trie_abs_score\"], name=\"Negative Sample\", marker=dict(color=\"red\")), row=2, col=2)\n",
    "fig.add_trace(go.Box(y=positive_sample_plot[\"test_trie_abs_score\"], name=\"Positive Sample\", marker=dict(color=\"blue\")), row=2, col=2)\n",
    "\n",
    "# Update title and height\n",
    "fig.update_layout(title_text=\"Boxplots of Trie Search Results\")\n",
    "fig.write_html(\"plots/test_boxplots.html\")"
   ]
  }
 ],
 "metadata": {
  "kernelspec": {
   "display_name": "Python 3",
   "language": "python",
   "name": "python3"
  },
  "language_info": {
   "codemirror_mode": {
    "name": "ipython",
    "version": 3
   },
   "file_extension": ".py",
   "mimetype": "text/x-python",
   "name": "python",
   "nbconvert_exporter": "python",
   "pygments_lexer": "ipython3",
   "version": "3.11.6"
  }
 },
 "nbformat": 4,
 "nbformat_minor": 2
}

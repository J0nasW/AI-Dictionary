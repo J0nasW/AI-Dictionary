{
 "cells": [
  {
   "cell_type": "markdown",
   "metadata": {},
   "source": [
    "# Validation of the AI Dictionary\n",
    "tbd"
   ]
  },
  {
   "cell_type": "code",
   "execution_count": null,
   "metadata": {},
   "outputs": [],
   "source": [
    "import pandas as pd\n",
    "import numpy as np\n",
    "import pickle\n",
    "\n",
    "from tqdm.auto import tqdm\n",
    "# register tqdm with pandas\n",
    "tqdm.pandas()\n",
    "\n",
    "import ahocorasick\n",
    "\n",
    "from helper.keyword_helper import get_clean_keywords, neo4j_fetch_data"
   ]
  },
  {
   "cell_type": "code",
   "execution_count": null,
   "metadata": {},
   "outputs": [],
   "source": [
    "# Create a dict of neo4j credentials\n",
    "NEO4J_CREDENTIALS = {\"url\": \"bolt://localhost:37687\", \"user\": \"neo4j\", \"password\": \"neo4jpassword\"}\n",
    "\n",
    "DICT_DIRECTORY = \"data/dictionaries/\""
   ]
  },
  {
   "cell_type": "code",
   "execution_count": null,
   "metadata": {},
   "outputs": [],
   "source": [
    "# Import the core and extended dictionaries\n",
    "core_dict = pd.read_csv(\"data/dictionaries/core_keywords.csv\")\n",
    "extended_dict = pd.read_csv(\"data/dictionaries/extended_keywords.csv\")\n",
    "extended_dict_neg = pd.read_csv(\"data/dictionaries/extended_keywords_neg.csv\")\n",
    "\n",
    "# Load Aho-Corasick automatons from dictionaries\n",
    "cso_automation = ahocorasick.load(DICT_DIRECTORY + \"core_aho_automation/cso_aho_automation.pkl\", pickle.loads)\n",
    "dataset_automation = ahocorasick.load(DICT_DIRECTORY + \"core_aho_automation/dataset_aho_automation.pkl\", pickle.loads)\n",
    "method_automation = ahocorasick.load(DICT_DIRECTORY + \"core_aho_automation/method_aho_automation.pkl\", pickle.loads)\n",
    "task_automation = ahocorasick.load(DICT_DIRECTORY + \"core_aho_automation/task_aho_automation.pkl\", pickle.loads)\n",
    "\n",
    "cso_extended_automation = ahocorasick.load(DICT_DIRECTORY + \"extended_aho_automation/cso_aho_automation.pkl\", pickle.loads)\n",
    "dataset_extended_automation = ahocorasick.load(DICT_DIRECTORY + \"extended_aho_automation/dataset_aho_automation.pkl\", pickle.loads)\n",
    "method_extended_automation = ahocorasick.load(DICT_DIRECTORY + \"extended_aho_automation/method_aho_automation.pkl\", pickle.loads)\n",
    "task_extended_automation = ahocorasick.load(DICT_DIRECTORY + \"extended_aho_automation/task_aho_automation.pkl\", pickle.loads)\n",
    "\n",
    "cso_extended_automation_neg = ahocorasick.load(DICT_DIRECTORY + \"extended_neg_aho_automation/cso_aho_automation.pkl\", pickle.loads)\n",
    "dataset_extended_automation_neg = ahocorasick.load(DICT_DIRECTORY + \"extended_neg_aho_automation/dataset_aho_automation.pkl\", pickle.loads)\n",
    "method_extended_automation_neg = ahocorasick.load(DICT_DIRECTORY + \"extended_neg_aho_automation/method_aho_automation.pkl\", pickle.loads)\n",
    "task_extended_automation_neg = ahocorasick.load(DICT_DIRECTORY + \"extended_neg_aho_automation/task_aho_automation.pkl\", pickle.loads)"
   ]
  },
  {
   "cell_type": "code",
   "execution_count": null,
   "metadata": {},
   "outputs": [],
   "source": [
    "# Get fulltexts from papers in neo4j\n",
    "query = \"\"\"\n",
    "MATCH (p:Paper)-[:HAS_FULLTEXT]->(f:Fulltext)\n",
    "RETURN p.id. AS id, p.title AS title, p.abstract AS abstract, f.text AS fulltext\n",
    "LIMIT 100\n",
    "\"\"\"\n",
    "print(\"Fetching data...\")\n",
    "pwc_oalex_ids = neo4j_fetch_data(query, NEO4J_CREDENTIALS)\n",
    "print(\"Done.\")"
   ]
  },
  {
   "cell_type": "code",
   "execution_count": null,
   "metadata": {},
   "outputs": [],
   "source": [
    "# Apply ahocorasick automaton to each fulltext. Make a column for each applied automation\n",
    "print(\"Applying automations...\")\n",
    "pwc_oalex_ids[\"cso_core_aho\"] = pwc_oalex_ids[\"fulltext\"].progress_apply(lambda x: list(cso_automation.iter(x)))\n",
    "pwc_oalex_ids[\"cso_core_aho\"] = pwc_oalex_ids[\"cso_core_aho\"].apply(lambda x: [y[1][1] for y in x])\n",
    "pwc_oalex_ids[\"cso_core_aho_length\"] = pwc_oalex_ids[\"cso_core_aho\"].apply(lambda x: len(x))\n",
    "pwc_oalex_ids[\"dataset_core_aho\"] = pwc_oalex_ids[\"fulltext\"].progress_apply(lambda x: list(dataset_automation.iter(x)))\n",
    "pwc_oalex_ids[\"dataset_core_aho\"] = pwc_oalex_ids[\"dataset_core_aho\"].apply(lambda x: [y[1][1] for y in x])\n",
    "pwc_oalex_ids[\"dataset_core_aho_length\"] = pwc_oalex_ids[\"dataset_core_aho\"].apply(lambda x: len(x))\n",
    "pwc_oalex_ids[\"method_core_aho\"] = pwc_oalex_ids[\"fulltext\"].progress_apply(lambda x: list(method_automation.iter(x)))\n",
    "pwc_oalex_ids[\"method_core_aho\"] = pwc_oalex_ids[\"method_core_aho\"].apply(lambda x: [y[1][1] for y in x])\n",
    "pwc_oalex_ids[\"method_core_aho_length\"] = pwc_oalex_ids[\"method_core_aho\"].apply(lambda x: len(x))\n",
    "pwc_oalex_ids[\"task_core_aho\"] = pwc_oalex_ids[\"fulltext\"].progress_apply(lambda x: list(task_automation.iter(x)))\n",
    "pwc_oalex_ids[\"task_core_aho\"] = pwc_oalex_ids[\"task_core_aho\"].apply(lambda x: [y[1][1] for y in x])\n",
    "pwc_oalex_ids[\"task_core_aho_length\"] = pwc_oalex_ids[\"task_core_aho\"].apply(lambda x: len(x))\n",
    "\n",
    "pwc_oalex_ids[\"cso_extended_aho\"] = pwc_oalex_ids[\"fulltext\"].progress_apply(lambda x: list(cso_extended_automation.iter(x)))\n",
    "pwc_oalex_ids[\"cso_extended_aho\"] = pwc_oalex_ids[\"cso_extended_aho\"].apply(lambda x: [y[1][1] for y in x])\n",
    "pwc_oalex_ids[\"cso_extended_aho_length\"] = pwc_oalex_ids[\"cso_extended_aho\"].apply(lambda x: len(x))\n",
    "pwc_oalex_ids[\"dataset_extended_aho\"] = pwc_oalex_ids[\"fulltext\"].progress_apply(lambda x: list(dataset_extended_automation.iter(x)))\n",
    "pwc_oalex_ids[\"dataset_extended_aho\"] = pwc_oalex_ids[\"dataset_extended_aho\"].apply(lambda x: [y[1][1] for y in x])\n",
    "pwc_oalex_ids[\"dataset_extended_aho_length\"] = pwc_oalex_ids[\"dataset_extended_aho\"].apply(lambda x: len(x))\n",
    "pwc_oalex_ids[\"method_extended_aho\"] = pwc_oalex_ids[\"fulltext\"].progress_apply(lambda x: list(method_extended_automation.iter(x)))\n",
    "pwc_oalex_ids[\"method_extended_aho\"] = pwc_oalex_ids[\"method_extended_aho\"].apply(lambda x: [y[1][1] for y in x])\n",
    "pwc_oalex_ids[\"method_extended_aho_length\"] = pwc_oalex_ids[\"method_extended_aho\"].apply(lambda x: len(x))\n",
    "pwc_oalex_ids[\"task_extended_aho\"] = pwc_oalex_ids[\"fulltext\"].progress_apply(lambda x: list(task_extended_automation.iter(x)))\n",
    "pwc_oalex_ids[\"task_extended_aho\"] = pwc_oalex_ids[\"task_extended_aho\"].apply(lambda x: [y[1][1] for y in x])\n",
    "pwc_oalex_ids[\"task_extended_aho_length\"] = pwc_oalex_ids[\"task_extended_aho\"].apply(lambda x: len(x))\n",
    "\n",
    "pwc_oalex_ids[\"cso_extended_aho_neg\"] = pwc_oalex_ids[\"fulltext\"].progress_apply(lambda x: list(cso_extended_automation_neg.iter(x)))\n",
    "pwc_oalex_ids[\"cso_extended_aho_neg\"] = pwc_oalex_ids[\"cso_extended_aho_neg\"].apply(lambda x: [y[1][1] for y in x])\n",
    "pwc_oalex_ids[\"cso_extended_aho_neg_length\"] = pwc_oalex_ids[\"cso_extended_aho_neg\"].apply(lambda x: len(x))\n",
    "pwc_oalex_ids[\"dataset_extended_aho_neg\"] = pwc_oalex_ids[\"fulltext\"].progress_apply(lambda x: list(dataset_extended_automation_neg.iter(x)))\n",
    "pwc_oalex_ids[\"dataset_extended_aho_neg\"] = pwc_oalex_ids[\"dataset_extended_aho_neg\"].apply(lambda x: [y[1][1] for y in x])\n",
    "pwc_oalex_ids[\"dataset_extended_aho_neg_length\"] = pwc_oalex_ids[\"dataset_extended_aho_neg\"].apply(lambda x: len(x))\n",
    "pwc_oalex_ids[\"method_extended_aho_neg\"] = pwc_oalex_ids[\"fulltext\"].progress_apply(lambda x: list(method_extended_automation_neg.iter(x)))\n",
    "pwc_oalex_ids[\"method_extended_aho_neg\"] = pwc_oalex_ids[\"method_extended_aho_neg\"].apply(lambda x: [y[1][1] for y in x])\n",
    "pwc_oalex_ids[\"method_extended_aho_neg_length\"] = pwc_oalex_ids[\"method_extended_aho_neg\"].apply(lambda x: len(x))\n",
    "pwc_oalex_ids[\"task_extended_aho_neg\"] = pwc_oalex_ids[\"fulltext\"].progress_apply(lambda x: list(task_extended_automation_neg.iter(x)))\n",
    "pwc_oalex_ids[\"task_extended_aho_neg\"] = pwc_oalex_ids[\"task_extended_aho_neg\"].apply(lambda x: [y[1][1] for y in x])\n",
    "pwc_oalex_ids[\"task_extended_aho_neg_length\"] = pwc_oalex_ids[\"task_extended_aho_neg\"].apply(lambda x: len(x))\n",
    "\n",
    "print(\"Done.\")\n",
    "\n"
   ]
  }
 ],
 "metadata": {
  "language_info": {
   "name": "python"
  }
 },
 "nbformat": 4,
 "nbformat_minor": 2
}

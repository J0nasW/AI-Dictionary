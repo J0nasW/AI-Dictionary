{
 "cells": [
  {
   "cell_type": "markdown",
   "metadata": {},
   "source": [
    "# Building the Extended AI Dictionary\n",
    "This notebook requires a running instance of the neo4j Graph Database with all the data from the steps before loaded and a built core dictionary. It will extend the core dictionary with the data from the graph database and save it as a new dictionary."
   ]
  },
  {
   "cell_type": "code",
   "execution_count": null,
   "metadata": {},
   "outputs": [],
   "source": [
    "import pandas as pd\n",
    "pd.options.mode.chained_assignment = None  # default='warn'\n",
    "from sentence_transformers import SentenceTransformer\n",
    "\n",
    "import logging\n",
    "logging.basicConfig(level=logging.ERROR)\n",
    "\n",
    "from tqdm.auto import tqdm\n",
    "# register tqdm with pandas\n",
    "tqdm.pandas()"
   ]
  },
  {
   "cell_type": "code",
   "execution_count": null,
   "metadata": {},
   "outputs": [],
   "source": [
    "DICT_PATH = \"data/dictionaries\""
   ]
  },
  {
   "cell_type": "code",
   "execution_count": null,
   "metadata": {},
   "outputs": [],
   "source": [
    "# Load the core &  extended dictionary that was produced by the 03b_Extended_Dictionary_Helper.py script\n",
    "core_dict_df = pd.read_csv(DICT_PATH + \"/core_dictionary.csv\")\n",
    "ext_dict_df = pd.read_csv(DICT_PATH + \"/extended_dictionary.csv\")\n",
    "neg_keywords_df = pd.read_csv(DICT_PATH + \"/negative_keywords.csv\")\n",
    "print(\"Core dictionary size: \", core_dict_df.shape)\n",
    "print(\"Extended dictionary size: \", ext_dict_df.shape)\n",
    "print(\"Negative keywords size: \", neg_keywords_df.shape)"
   ]
  },
  {
   "cell_type": "code",
   "execution_count": null,
   "metadata": {},
   "outputs": [],
   "source": [
    "# Strip the extended dictionary of any keywords that are already in the core dictionary\n",
    "initial_ext_size = ext_dict_df.shape[0]\n",
    "ext_dict_df = ext_dict_df[~ext_dict_df.keyword.isin(core_dict_df.keyword)]\n",
    "print(f\"Stripped {initial_ext_size - ext_dict_df.shape[0]} keywords from extended dictionary that were already in core dictionary.\")\n",
    "# Strip the extended dictionary of any keywords that are already in the negative keywords\n",
    "initial_ext_size = ext_dict_df.shape[0]\n",
    "ext_dict_df = ext_dict_df[~ext_dict_df.keyword.isin(neg_keywords_df.keyword)]\n",
    "print(f\"Stripped {initial_ext_size - ext_dict_df.shape[0]} keywords from extended dictionary that were already in negative keywords.\")\n",
    "\n",
    "# Calculate embeddings for all extended keywords\n",
    "print(\"Embedding all extended keywords...\")\n",
    "print(\"\")\n",
    "print(\"Loading Sentence Transformer model...\")\n",
    "MODEL_SCINCL = SentenceTransformer('malteos/SciNCL')\n",
    "print(\"Done.\")\n",
    "print(\"Embedding extended keywords...\")\n",
    "ext_dict_df['embedding'] = MODEL_SCINCL.encode(ext_dict_df['keyword'].tolist(), show_progress_bar=True).tolist()\n",
    "print(\"Done.\")"
   ]
  },
  {
   "cell_type": "code",
   "execution_count": null,
   "metadata": {},
   "outputs": [],
   "source": [
    "# Save the extended dictionary\n",
    "ext_dict_df.to_csv(DICT_PATH + \"/extended_dictionary.csv\", index=False)"
   ]
  }
 ],
 "metadata": {
  "kernelspec": {
   "display_name": "Python 3",
   "language": "python",
   "name": "python3"
  },
  "language_info": {
   "name": "python",
   "version": "3.11.6"
  }
 },
 "nbformat": 4,
 "nbformat_minor": 2
}

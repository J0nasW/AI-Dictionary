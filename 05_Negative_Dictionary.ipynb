{
 "cells": [
  {
   "cell_type": "markdown",
   "metadata": {},
   "source": [
    "# Building a negative Dictionary for Keyword Extraction\n",
    "This notebook requires a running instance of a OpenAlex Postgres Database, a neo4j Graph Database as well as core and extended AI dictionaries built. It will create a negative dictionary sampled from the OpenAlex database. The negative dictionary will be used to filter out keywords that are not relevant to the AI domain."
   ]
  },
  {
   "cell_type": "code",
   "execution_count": 1,
   "metadata": {},
   "outputs": [],
   "source": [
    "import pandas as pd\n",
    "pd.options.mode.chained_assignment = None  # default='warn'\n",
    "\n",
    "import logging\n",
    "logging.basicConfig(level=logging.ERROR)\n",
    "\n",
    "from sqlalchemy import create_engine, URL, text\n",
    "\n",
    "from tqdm.auto import tqdm\n",
    "# register tqdm with pandas\n",
    "tqdm.pandas()\n",
    "\n",
    "import ahocorasick\n",
    "import pickle, re\n",
    "\n",
    "from helper.keyword_helper import get_clean_keywords, neo4j_fetch_data, make_aho_automation"
   ]
  },
  {
   "cell_type": "code",
   "execution_count": 2,
   "metadata": {},
   "outputs": [],
   "source": [
    "AHO_LENGTH = 5\n",
    "OALEX_SAMPLE_LIMIT = 100000 # Remember, around 60% will be filtered out...\n",
    "# OALEX_SAMPLE_FRAC = 0.01\n",
    "KEYWORD_FREQ_RANGE = (2,6000)\n",
    "\n",
    "DICT_PATH = \"data/dictionaries\"\n",
    "\n",
    "url_object = URL.create(\n",
    "    drivername='postgresql+psycopg2',\n",
    "    username='tie',\n",
    "    password='TIE%2023!tuhh',\n",
    "    host='134.28.58.100',\n",
    "    # host='tie-workstation.tail6716.ts.net',\n",
    "    # host='localhost',\n",
    "    port=45432,\n",
    "    database='openalex_db',\n",
    ")\n",
    "engine = create_engine(url_object)\n",
    "engine.connect()\n",
    "\n",
    "# Create a dict of neo4j credentials\n",
    "NEO4J_CREDENTIALS = {\"url\": \"bolt://localhost:37687\", \"user\": \"neo4j\", \"password\": \"neo4jpassword\"}"
   ]
  },
  {
   "cell_type": "code",
   "execution_count": 3,
   "metadata": {},
   "outputs": [
    {
     "name": "stdout",
     "output_type": "stream",
     "text": [
      "Got 100000 OpenAlex Works\n"
     ]
    }
   ],
   "source": [
    "# Get a Sample of around 0.01% of the data\n",
    "# sql_query = f'''\n",
    "#     SELECT *\n",
    "#     FROM openalex.works\n",
    "#     TABLESAMPLE SYSTEM ({OALEX_SAMPLE_FRAC})\n",
    "#     WHERE abstract_inverted_index IS NOT NULL\n",
    "# '''\n",
    "\n",
    "sql_query = f'''\n",
    "    SELECT *\n",
    "    FROM openalex.works\n",
    "    WHERE abstract_inverted_index IS NOT NULL\n",
    "    LIMIT {OALEX_SAMPLE_LIMIT}\n",
    "'''\n",
    "\n",
    "with engine.connect() as conn:\n",
    "    openalex = pd.read_sql(sql=text(sql_query), con=conn)\n",
    "    print(f\"Got {len(openalex)} OpenAlex Works\")"
   ]
  },
  {
   "cell_type": "code",
   "execution_count": 3,
   "metadata": {},
   "outputs": [
    {
     "name": "stdout",
     "output_type": "stream",
     "text": [
      "Fetching data...\n",
      "Done.\n",
      "Got 256386 OpenAlex IDs from PwC Papers.\n",
      "Got 256386 OpenAlex IDs from PwC Papers after dropping NA.\n"
     ]
    }
   ],
   "source": [
    "# Get all openalex_ids from papers for a negative list\n",
    "query = \"\"\"\n",
    "MATCH (p:Paper)\n",
    "RETURN p.id_openalex as openalex_id\n",
    "\"\"\"\n",
    "print(\"Fetching data...\")\n",
    "pwc_oalex_ids = neo4j_fetch_data(query, NEO4J_CREDENTIALS)\n",
    "print(\"Done.\")\n",
    "print(f\"Got {len(pwc_oalex_ids)} OpenAlex IDs from PwC Papers.\")\n",
    "pwc_oalex_ids.dropna(inplace=True)\n",
    "pwc_oalex_ids.reset_index(drop=True, inplace=True)\n",
    "print(f\"Got {len(pwc_oalex_ids)} OpenAlex IDs from PwC Papers after dropping NA.\")"
   ]
  },
  {
   "cell_type": "code",
   "execution_count": 5,
   "metadata": {},
   "outputs": [
    {
     "name": "stdout",
     "output_type": "stream",
     "text": [
      "Number of openalex sample abstracts before removing PwC papers: 100000\n",
      "Number of openalex sample abstracts after removing PwC papers: 99718 (99.7% remain)\n"
     ]
    }
   ],
   "source": [
    "# Remove all openalex rows, where the id is in the pwc_oalex_ids df\n",
    "print(f\"Number of openalex sample abstracts before removing PwC papers: {len(openalex)}\")\n",
    "openalex_id_filtered = openalex[~openalex['id'].isin(pwc_oalex_ids['openalex_id'])]\n",
    "print(f\"Number of openalex sample abstracts after removing PwC papers: {len(openalex_id_filtered)} ({round(len(openalex_id_filtered)/len(openalex), 3) * 100}% remain)\")"
   ]
  },
  {
   "cell_type": "code",
   "execution_count": 6,
   "metadata": {},
   "outputs": [
    {
     "name": "stdout",
     "output_type": "stream",
     "text": [
      "Number of rows after cleaning: 99291 (100.0% remain)\n"
     ]
    }
   ],
   "source": [
    "# Some cleaning\n",
    "openalex_sample = openalex_id_filtered.copy()\n",
    "openalex_sample['abstract_inverted_index'] = openalex_sample['abstract_inverted_index'].apply(lambda x: x['InvertedIndex'])\n",
    "openalex_sample['abstract'] = [\" \".join(list(d.keys())) if d else None for d in openalex_sample['abstract_inverted_index']]\n",
    "openalex_sample.drop(columns=['abstract_inverted_index'], inplace=True)\n",
    "openalex_sample['abstract'] = (openalex_sample['abstract']\n",
    "                                .str.replace(r\"[^a-zA-Z0-9 ]\", \" \", regex=True)\n",
    "                                .str.replace(r\"abstract\", \"\", flags=re.IGNORECASE)\n",
    "                                .str.strip()\n",
    "                                .str.replace(r\"\\s+\", \" \", regex=True)\n",
    "                                .astype(str)\n",
    "                                .str.lower()\n",
    "                                )\n",
    "openalex_sample['abstract'] = openalex_sample['abstract'].apply(lambda x: x if len(x.split()) > 10 else None)\n",
    "openalex_sample = openalex_sample[openalex_sample['abstract'].notna()]\n",
    "openalex_sample.reset_index(drop=True, inplace=True)\n",
    "print(f\"Number of rows after cleaning: {len(openalex_sample)} ({round((len(openalex_sample))/len(openalex_id_filtered), 2) * 100}% remain)\")"
   ]
  },
  {
   "cell_type": "code",
   "execution_count": 7,
   "metadata": {},
   "outputs": [
    {
     "name": "stdout",
     "output_type": "stream",
     "text": [
      "Loading aho automation...\n",
      "Applying aho automation...\n"
     ]
    },
    {
     "data": {
      "application/vnd.jupyter.widget-view+json": {
       "model_id": "c0b568ba9f5e4ca1b795d4627c591faf",
       "version_major": 2,
       "version_minor": 0
      },
      "text/plain": [
       "  0%|          | 0/99291 [00:00<?, ?it/s]"
      ]
     },
     "metadata": {},
     "output_type": "display_data"
    },
    {
     "name": "stdout",
     "output_type": "stream",
     "text": [
      "Found all core ai keywords in abstracts, will now remove all rows with an aho_length of 5 or more.\n",
      "Number of rows after removing all rows with an aho_length of 5 or more: 34946 (35.199999999999996% remain)\n"
     ]
    }
   ],
   "source": [
    "# Load the aho automation for the core keywords\n",
    "print(\"Loading aho automation...\")\n",
    "cso_aho_automation = ahocorasick.load('data/dictionaries/core_aho_automation/cso_aho_automation.pkl', pickle.loads)\n",
    "\n",
    "openalex_sample_aho = openalex_sample.copy()\n",
    "\n",
    "# Apply the automation on the abstracts and make a new column with all the results\n",
    "print(\"Applying aho automation...\")\n",
    "openalex_sample_aho['aho_results'] = openalex_sample_aho['abstract'].progress_apply(lambda x: list(cso_aho_automation.iter_long(x)))\n",
    "# Extract only the keywords, not the positions\n",
    "openalex_sample_aho['aho_results'] = openalex_sample_aho['aho_results'].apply(lambda x: [y[1][1] for y in x])\n",
    "# Make a new column aho_length with the length of the results\n",
    "openalex_sample_aho['aho_length'] = openalex_sample_aho['aho_results'].apply(lambda x: len(x))\n",
    "# Sort by aho_length descending\n",
    "openalex_sample_aho.sort_values(by='aho_length', ascending=False, inplace=True)\n",
    "# Reset the index\n",
    "openalex_sample_aho.reset_index(drop=True, inplace=True)\n",
    "\n",
    "# Remove all rows with an aho_length of 5 or more\n",
    "print(f\"Found all core ai keywords in abstracts, will now remove all rows with an aho_length of {AHO_LENGTH} or more.\")\n",
    "openalex_sample_aho = openalex_sample_aho[openalex_sample_aho['aho_length'] < AHO_LENGTH]\n",
    "print(f\"Number of rows after removing all rows with an aho_length of {AHO_LENGTH} or more: {len(openalex_sample_aho)} ({round(len(openalex_sample_aho)/len(openalex_sample), 3) * 100}% remain)\")"
   ]
  },
  {
   "cell_type": "code",
   "execution_count": 8,
   "metadata": {},
   "outputs": [
    {
     "name": "stdout",
     "output_type": "stream",
     "text": [
      "Generating keywords for title...\n"
     ]
    },
    {
     "data": {
      "application/vnd.jupyter.widget-view+json": {
       "model_id": "08483fe6f4d846e3ab53f9f20bc2391c",
       "version_major": 2,
       "version_minor": 0
      },
      "text/plain": [
       "  0%|          | 0/34946 [00:00<?, ?it/s]"
      ]
     },
     "metadata": {},
     "output_type": "display_data"
    },
    {
     "name": "stdout",
     "output_type": "stream",
     "text": [
      "Warning! Exception: object of type 'NoneType' has no len() generated by the following text: 'None' \n",
      "Warning! Exception: object of type 'NoneType' has no len() generated by the following text: 'None' \n",
      "Warning! Exception: object of type 'NoneType' has no len() generated by the following text: 'None' \n",
      "Warning! Exception: object of type 'NoneType' has no len() generated by the following text: 'None' \n",
      "Warning! Exception: object of type 'NoneType' has no len() generated by the following text: 'None' \n",
      "\n",
      "Warning! Exception: object of type 'NoneType' has no len() generated by the following text: 'None' Warning! Exception: object of type 'NoneType' has no len() generated by the following text: 'None' \n",
      "Warning! Exception: object of type 'NoneType' has no len() generated by the following text: 'None' \n",
      "Warning! Exception: object of type 'NoneType' has no len() generated by the following text: 'None' \n",
      "Warning! Exception: object of type 'NoneType' has no len() generated by the following text: 'None' \n",
      "Warning! Exception: object of type 'NoneType' has no len() generated by the following text: 'None' \n",
      "Warning! Exception: object of type 'NoneType' has no len() generated by the following text: 'None' \n",
      "Warning! Exception: object of type 'NoneType' has no len() generated by the following text: 'None' \n",
      "Warning! Exception: object of type 'NoneType' has no len() generated by the following text: 'None' \n",
      "Warning! Exception: object of type 'NoneType' has no len() generated by the following text: 'None' \n",
      "Warning! Exception: object of type 'NoneType' has no len() generated by the following text: 'None' \n",
      "Warning! Exception: object of type 'NoneType' has no len() generated by the following text: 'None' \n",
      "Warning! Exception: object of type 'NoneType' has no len() generated by the following text: 'None' \n",
      "Warning! Exception: object of type 'NoneType' has no len() generated by the following text: 'None' \n",
      "Warning! Exception: object of type 'NoneType' has no len() generated by the following text: 'None' \n",
      "Warning! Exception: object of type 'NoneType' has no len() generated by the following text: 'None' \n",
      "Warning! Exception: object of type 'NoneType' has no len() generated by the following text: 'None' \n",
      "Warning! Exception: object of type 'NoneType' has no len() generated by the following text: 'None' \n",
      "Warning! Exception: object of type 'NoneType' has no len() generated by the following text: 'None' \n",
      "Warning! Exception: object of type 'NoneType' has no len() generated by the following text: 'None' \n",
      "Warning! Exception: object of type 'NoneType' has no len() generated by the following text: 'None' \n",
      "Warning! Exception: object of type 'NoneType' has no len() generated by the following text: 'None' \n",
      "Warning! Exception: object of type 'NoneType' has no len() generated by the following text: 'None' \n",
      "Warning! Exception: object of type 'NoneType' has no len() generated by the following text: 'None' \n",
      "Warning! Exception: object of type 'NoneType' has no len() generated by the following text: 'None' \n",
      "Warning! Exception: object of type 'NoneType' has no len() generated by the following text: 'None' \n",
      "Warning! Exception: object of type 'NoneType' has no len() generated by the following text: 'None' \n",
      "Warning! Exception: object of type 'NoneType' has no len() generated by the following text: 'None' \n",
      "Warning! Exception: object of type 'NoneType' has no len() generated by the following text: 'None' \n",
      "Warning! Exception: object of type 'NoneType' has no len() generated by the following text: 'None' \n",
      "Warning! Exception: object of type 'NoneType' has no len() generated by the following text: 'None' \n",
      "Warning! Exception: object of type 'NoneType' has no len() generated by the following text: 'None' \n",
      "Warning! Exception: object of type 'NoneType' has no len() generated by the following text: 'None' \n",
      "Warning! Exception: object of type 'NoneType' has no len() generated by the following text: 'None' \n",
      "Warning! Exception: object of type 'NoneType' has no len() generated by the following text: 'None' \n",
      "Warning! Exception: object of type 'NoneType' has no len() generated by the following text: 'None' \n",
      "Warning! Exception: object of type 'NoneType' has no len() generated by the following text: 'None' \n",
      "\n",
      "Warning! Exception: object of type 'NoneType' has no len() generated by the following text: 'None' Warning! Exception: object of type 'NoneType' has no len() generated by the following text: 'None' \n",
      "Warning! Exception: object of type 'NoneType' has no len() generated by the following text: 'None' \n",
      "Warning! Exception: object of type 'NoneType' has no len() generated by the following text: 'None' \n",
      "Warning! Exception: object of type 'NoneType' has no len() generated by the following text: 'None' \n",
      "Warning! Exception: object of type 'NoneType' has no len() generated by the following text: 'None' \n",
      "Warning! Exception: object of type 'NoneType' has no len() generated by the following text: 'None' \n",
      "Warning! Exception: object of type 'NoneType' has no len() generated by the following text: 'None' \n",
      "Warning! Exception: object of type 'NoneType' has no len() generated by the following text: 'None' \n",
      "Warning! Exception: object of type 'NoneType' has no len() generated by the following text: 'None' \n",
      "Warning! Exception: object of type 'NoneType' has no len() generated by the following text: 'None' \n",
      "Warning! Exception: object of type 'NoneType' has no len() generated by the following text: 'None' \n",
      "Warning! Exception: object of type 'NoneType' has no len() generated by the following text: 'None' \n",
      "Warning! Exception: object of type 'NoneType' has no len() generated by the following text: 'None' \n",
      "Warning! Exception: object of type 'NoneType' has no len() generated by the following text: 'None' \n",
      "Warning! Exception: object of type 'NoneType' has no len() generated by the following text: 'None' \n",
      "Warning! Exception: object of type 'NoneType' has no len() generated by the following text: 'None' \n",
      "Warning! Exception: object of type 'NoneType' has no len() generated by the following text: 'None' \n",
      "Warning! Exception: object of type 'NoneType' has no len() generated by the following text: 'None' \n",
      "Warning! Exception: object of type 'NoneType' has no len() generated by the following text: 'None' \n",
      "Warning! Exception: object of type 'NoneType' has no len() generated by the following text: 'None' \n",
      "Warning! Exception: object of type 'NoneType' has no len() generated by the following text: 'None' \n",
      "Warning! Exception: object of type 'NoneType' has no len() generated by the following text: 'None' \n",
      "Warning! Exception: object of type 'NoneType' has no len() generated by the following text: 'None' \n",
      "Warning! Exception: object of type 'NoneType' has no len() generated by the following text: 'None' \n",
      "Warning! Exception: object of type 'NoneType' has no len() generated by the following text: 'None' \n",
      "Warning! Exception: object of type 'NoneType' has no len() generated by the following text: 'None' \n",
      "Warning! Exception: object of type 'NoneType' has no len() generated by the following text: 'None' \n",
      "Warning! Exception: object of type 'NoneType' has no len() generated by the following text: 'None' \n",
      "Warning! Exception: object of type 'NoneType' has no len() generated by the following text: 'None' \n",
      "Warning! Exception: object of type 'NoneType' has no len() generated by the following text: 'None' \n",
      "Warning! Exception: object of type 'NoneType' has no len() generated by the following text: 'None' Warning! Exception: object of type 'NoneType' has no len() generated by the following text: 'None' \n",
      "\n",
      "Warning! Exception: object of type 'NoneType' has no len() generated by the following text: 'None' \n",
      "Extracted keywords for title\n",
      "Filtered out keywords with less than 4 characters.\n",
      "Ended up with 34946 keywords.\n",
      "Generating keywords for abstract...\n"
     ]
    },
    {
     "data": {
      "application/vnd.jupyter.widget-view+json": {
       "model_id": "4c3c2755d3fb48048f29aeffb264c7e4",
       "version_major": 2,
       "version_minor": 0
      },
      "text/plain": [
       "  0%|          | 0/34946 [00:00<?, ?it/s]"
      ]
     },
     "metadata": {},
     "output_type": "display_data"
    },
    {
     "name": "stdout",
     "output_type": "stream",
     "text": [
      "Extracted keywords for abstract\n",
      "Filtered out keywords with less than 4 characters.\n",
      "Ended up with 34946 keywords.\n"
     ]
    }
   ],
   "source": [
    "# Get the keywords (this will take some time)\n",
    "negative_keywords_df = get_clean_keywords(openalex_sample_aho, [\"title\", \"abstract\"])"
   ]
  },
  {
   "cell_type": "code",
   "execution_count": 9,
   "metadata": {},
   "outputs": [
    {
     "name": "stdout",
     "output_type": "stream",
     "text": [
      "Got 349731 keywords including title and abstract keywords.\n",
      "Got 31315 unique keywords in the list named all_negative_keywords_dedupe (9.0% remain).\n"
     ]
    }
   ],
   "source": [
    "negative_title_keywords = negative_keywords_df.title_keywords.tolist()\n",
    "negative_title_keywords = [keyword for keywords in negative_title_keywords for keyword, score in keywords]\n",
    "negative_abstract_keywords = negative_keywords_df.abstract_keywords.tolist()\n",
    "negative_abstract_keywords = [keyword for keywords in negative_abstract_keywords for keyword, score in keywords]\n",
    "\n",
    "# Make a list with all keywords\n",
    "all_negative_keywords = negative_title_keywords + negative_abstract_keywords\n",
    "print(f\"Got {len(all_negative_keywords)} keywords including title and abstract keywords.\")\n",
    "\n",
    "# Make a df out of it\n",
    "all_negative_keywords_df = pd.DataFrame(all_negative_keywords, columns=['keyword'])\n",
    "# I want you to convert the all_negative_keywords_df so that only unique keywords remain. But I need the number of occurences for each keyword in the original df. Therefore the unique df has a new column \"frequency\" that contains the number of occurences of the keyword in the original df.\n",
    "all_negative_keywords_df['frequency'] = all_negative_keywords_df['keyword'].map(all_negative_keywords_df['keyword'].value_counts())\n",
    "# Drop duplicates\n",
    "all_negative_keywords_df.drop_duplicates(inplace=True)\n",
    "# Drop all rows where the frequency is not in KEYWORD_FREQ_RANGE\n",
    "all_negative_keywords_df = all_negative_keywords_df[all_negative_keywords_df['frequency'].between(KEYWORD_FREQ_RANGE[0], KEYWORD_FREQ_RANGE[1])]\n",
    "# Reset index\n",
    "all_negative_keywords_df.reset_index(drop=True, inplace=True)\n",
    "# Make a list out of it\n",
    "all_negative_keywords_dedupe = all_negative_keywords_df.keyword.tolist()\n",
    "\n",
    "print(f\"Got {len(all_negative_keywords_dedupe)} unique keywords in the list named all_negative_keywords_dedupe ({round(len(all_negative_keywords_dedupe)/len(all_negative_keywords), 3) * 100}% remain).\")"
   ]
  },
  {
   "cell_type": "code",
   "execution_count": 10,
   "metadata": {},
   "outputs": [
    {
     "name": "stdout",
     "output_type": "stream",
     "text": [
      "Loading extended dictionaries...\n",
      "Done.\n",
      "Subtracting all_negative_keywords_dedupe from each ext dict...\n",
      "Number of rows in cso_ext after removing all_negative_keywords_dedupe: 4013 out of 4411 (91.0% remain)\n",
      "Number of rows in method_ext after removing all_negative_keywords_dedupe: 1889 out of 2167 (87.2% remain)\n",
      "Number of rows in task_ext after removing all_negative_keywords_dedupe: 5209 out of 5769 (90.3% remain)\n",
      "Number of rows in dataset_ext after removing all_negative_keywords_dedupe: 4990 out of 5763 (86.6% remain)\n",
      "Done.\n",
      "Saving extended dictionary...\n",
      "Done.\n"
     ]
    },
    {
     "ename": "",
     "evalue": "",
     "output_type": "error",
     "traceback": [
      "\u001b[1;31mDer Kernel ist beim Ausführen von Code in der aktuellen Zelle oder einer vorherigen Zelle abgestürzt. Bitte überprüfen Sie den Code in der/den Zelle(n), um eine mögliche Fehlerursache zu identifizieren. Klicken Sie <a href='https://aka.ms/vscodeJupyterKernelCrash'>hier</a>, um weitere Informationen zu erhalten. Weitere Details finden Sie in Jupyter <a href='command:jupyter.viewOutput'>log</a>."
     ]
    }
   ],
   "source": [
    "# Subtract the all_negative_keywords_dedupe from each ext dict\n",
    "\n",
    "# Make a new folder if it doesn't exist \"data/dictionaries/extended_keywords/\"\n",
    "import os\n",
    "if not os.path.exists('data/dictionaries/extended_keywords_neg/'):\n",
    "    os.makedirs('data/dictionaries/extended_keywords_neg/')\n",
    "\n",
    "# Load the extended dictionaries\n",
    "print(\"Loading extended dictionaries...\")\n",
    "extended_keywords = pd.read_csv('data/dictionaries/extended_keywords.csv')\n",
    "cso_ext = extended_keywords[extended_keywords['source'] == 'cso']\n",
    "method_ext = extended_keywords[extended_keywords['source'] == 'method']\n",
    "task_ext = extended_keywords[extended_keywords['source'] == 'task']\n",
    "dataset_ext = extended_keywords[extended_keywords['source'] == 'dataset']\n",
    "print(\"Done.\")\n",
    "\n",
    "# Subtract the all_negative_keywords_dedupe from each ext dict\n",
    "print(\"Subtracting all_negative_keywords_dedupe from each ext dict...\")\n",
    "\n",
    "all_keywords = pd.DataFrame(columns=['keyword', 'source'])\n",
    "\n",
    "for ext, name in [(cso_ext, 'cso'), (method_ext, 'method'), (task_ext, 'task'), (dataset_ext, 'dataset')]:\n",
    "    initial_length_ext = len(ext)\n",
    "    removed_keywords = ext[ext['keyword'].isin(all_negative_keywords_dedupe)]\n",
    "    ext = ext[~ext['keyword'].isin(all_negative_keywords_dedupe)]\n",
    "    ext.dropna(inplace=True)\n",
    "    ext.reset_index(drop=True, inplace=True)\n",
    "    print(f\"Number of rows in {name}_ext after removing all_negative_keywords_dedupe: {len(ext)} out of {initial_length_ext} ({round(len(ext)/initial_length_ext, 3) * 100}% remain)\")\n",
    "    # Save the removed keywords to a CSV file\n",
    "    removed_keywords.to_csv(f'data/dictionaries/extended_keywords_neg/removed_keywords_extended_{name}.csv', index=False)\n",
    "    # Make a new column \"source\" with the name of the dictionary\n",
    "    ext['source'] = name\n",
    "    # Concatenate this df with all_keywords\n",
    "    all_keywords = pd.concat([all_keywords, ext], ignore_index=True)\n",
    "print(\"Done.\")"
   ]
  },
  {
   "cell_type": "code",
   "execution_count": null,
   "metadata": {},
   "outputs": [],
   "source": [
    "# Make a new folder in the DICT_PATH for the ahocorasick dumps\n",
    "if not os.path.exists(DICT_PATH + \"/extended_neg_aho_automation\"):\n",
    "    os.mkdir(DICT_PATH + \"/extended_neg_aho_automation\")\n",
    "    \n",
    "extended_neg_keywords_cso_automation = make_aho_automation(all_keywords[all_keywords['source'] == 'cso'].keyword.tolist())\n",
    "extended_neg_keywords_cso_automation.save(DICT_PATH + \"/extended_neg_aho_automation/cso_aho_automation.pkl\")\n",
    "\n",
    "extended_neg_keywords_method_automation = make_aho_automation(all_keywords[all_keywords['source'] == 'method'].keyword.tolist())\n",
    "extended_neg_keywords_method_automation.save(DICT_PATH + \"/extended_neg_aho_automation/method_aho_automation.pkl\")\n",
    "\n",
    "extended_neg_keywords_task_automation = make_aho_automation(all_keywords[all_keywords['source'] == 'task'].keyword.tolist())\n",
    "extended_neg_keywords_task_automation.save(DICT_PATH + \"/extended_neg_aho_automation/task_aho_automation.pkl\")\n",
    "\n",
    "extended_neg_keywords_dataset_automation = make_aho_automation(all_keywords[all_keywords['source'] == 'dataset'].keyword.tolist())\n",
    "extended_neg_keywords_dataset_automation.save(DICT_PATH + \"/extended_neg_aho_automation/dataset_aho_automation.pkl\")"
   ]
  },
  {
   "cell_type": "code",
   "execution_count": null,
   "metadata": {},
   "outputs": [],
   "source": [
    "# Save the extended dictionaries\n",
    "print(\"Saving extended dictionary...\")\n",
    "all_keywords.to_csv(DICT_PATH + 'extended_keywords_neg.csv', index=False)\n",
    "print(\"Done.\")"
   ]
  }
 ],
 "metadata": {
  "kernelspec": {
   "display_name": "Python 3",
   "language": "python",
   "name": "python3"
  },
  "language_info": {
   "codemirror_mode": {
    "name": "ipython",
    "version": 3
   },
   "file_extension": ".py",
   "mimetype": "text/x-python",
   "name": "python",
   "nbconvert_exporter": "python",
   "pygments_lexer": "ipython3",
   "version": "3.11.6"
  }
 },
 "nbformat": 4,
 "nbformat_minor": 2
}

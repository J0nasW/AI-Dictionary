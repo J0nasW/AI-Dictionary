{
 "cells": [
  {
   "cell_type": "code",
   "execution_count": 11,
   "metadata": {},
   "outputs": [],
   "source": [
    "import pandas as pd\n",
    "import numpy as np\n",
    "import pickle, re\n",
    "\n",
    "from tqdm.auto import tqdm\n",
    "# register tqdm with pandas\n",
    "tqdm.pandas()\n",
    "\n",
    "import ahocorasick\n",
    "\n",
    "from helper.keyword_helper import get_clean_keywords, neo4j_fetch_data"
   ]
  },
  {
   "cell_type": "code",
   "execution_count": 2,
   "metadata": {},
   "outputs": [],
   "source": [
    "# Create a dict of neo4j credentials\n",
    "NEO4J_CREDENTIALS = {\"url\": \"bolt://localhost:37687\", \"user\": \"neo4j\", \"password\": \"neo4jpassword\"}\n",
    "DICT_DIRECTORY = \"data/dictionaries/\""
   ]
  },
  {
   "cell_type": "code",
   "execution_count": 3,
   "metadata": {},
   "outputs": [],
   "source": [
    "# Import the core and extended dictionaries\n",
    "core_dict = pd.read_csv(\"data/dictionaries/core_keywords.csv\")\n",
    "extended_dict = pd.read_csv(\"data/dictionaries/extended_keywords.csv\")\n",
    "extended_dict_neg = pd.read_csv(\"data/dictionaries/extended_keywords_neg.csv\")"
   ]
  },
  {
   "cell_type": "code",
   "execution_count": 13,
   "metadata": {},
   "outputs": [
    {
     "name": "stdout",
     "output_type": "stream",
     "text": [
      "Fetching data...\n",
      "Done.\n"
     ]
    },
    {
     "data": {
      "text/html": [
       "<div>\n",
       "<style scoped>\n",
       "    .dataframe tbody tr th:only-of-type {\n",
       "        vertical-align: middle;\n",
       "    }\n",
       "\n",
       "    .dataframe tbody tr th {\n",
       "        vertical-align: top;\n",
       "    }\n",
       "\n",
       "    .dataframe thead th {\n",
       "        text-align: right;\n",
       "    }\n",
       "</style>\n",
       "<table border=\"1\" class=\"dataframe\">\n",
       "  <thead>\n",
       "    <tr style=\"text-align: right;\">\n",
       "      <th></th>\n",
       "      <th>id</th>\n",
       "      <th>title</th>\n",
       "      <th>abstract</th>\n",
       "    </tr>\n",
       "  </thead>\n",
       "  <tbody>\n",
       "    <tr>\n",
       "      <th>0</th>\n",
       "      <td>4769585118369390189087340060926485915591163442...</td>\n",
       "      <td>Spectral feature mapping with mimic loss for r...</td>\n",
       "      <td>For the task of speech enhancement, local lear...</td>\n",
       "    </tr>\n",
       "    <tr>\n",
       "      <th>1</th>\n",
       "      <td>7976349412852653205399785718984636615103045675...</td>\n",
       "      <td>Detecting truth, just on parts</td>\n",
       "      <td>We introduce and discuss, through a computatio...</td>\n",
       "    </tr>\n",
       "    <tr>\n",
       "      <th>2</th>\n",
       "      <td>9304173010254316121188238355449324959015075236...</td>\n",
       "      <td>Failing to Learn: Autonomously Identifying Per...</td>\n",
       "      <td>One of the major open challenges in self-drivi...</td>\n",
       "    </tr>\n",
       "    <tr>\n",
       "      <th>3</th>\n",
       "      <td>6525473766675309646606181528323199963925323625...</td>\n",
       "      <td>Enhancing Evolutionary Conversion Rate Optimiz...</td>\n",
       "      <td>Conversion rate optimization means designing w...</td>\n",
       "    </tr>\n",
       "    <tr>\n",
       "      <th>4</th>\n",
       "      <td>1127488343483927770718834009113463814949406094...</td>\n",
       "      <td>Transferable Joint Attribute-Identity Deep Lea...</td>\n",
       "      <td>Most existing person re-identification (re-id)...</td>\n",
       "    </tr>\n",
       "  </tbody>\n",
       "</table>\n",
       "</div>"
      ],
      "text/plain": [
       "                                                  id  \\\n",
       "0  4769585118369390189087340060926485915591163442...   \n",
       "1  7976349412852653205399785718984636615103045675...   \n",
       "2  9304173010254316121188238355449324959015075236...   \n",
       "3  6525473766675309646606181528323199963925323625...   \n",
       "4  1127488343483927770718834009113463814949406094...   \n",
       "\n",
       "                                               title  \\\n",
       "0  Spectral feature mapping with mimic loss for r...   \n",
       "1                     Detecting truth, just on parts   \n",
       "2  Failing to Learn: Autonomously Identifying Per...   \n",
       "3  Enhancing Evolutionary Conversion Rate Optimiz...   \n",
       "4  Transferable Joint Attribute-Identity Deep Lea...   \n",
       "\n",
       "                                            abstract  \n",
       "0  For the task of speech enhancement, local lear...  \n",
       "1  We introduce and discuss, through a computatio...  \n",
       "2  One of the major open challenges in self-drivi...  \n",
       "3  Conversion rate optimization means designing w...  \n",
       "4  Most existing person re-identification (re-id)...  "
      ]
     },
     "metadata": {},
     "output_type": "display_data"
    },
    {
     "data": {
      "application/vnd.jupyter.widget-view+json": {
       "model_id": "25fbc6fbe63946678f90a44a8bf54543",
       "version_major": 2,
       "version_minor": 0
      },
      "text/plain": [
       "  0%|          | 0/1000 [00:00<?, ?it/s]"
      ]
     },
     "metadata": {},
     "output_type": "display_data"
    },
    {
     "data": {
      "application/vnd.jupyter.widget-view+json": {
       "model_id": "a7db3600a107432ba47bb385b602bf84",
       "version_major": 2,
       "version_minor": 0
      },
      "text/plain": [
       "  0%|          | 0/1000 [00:00<?, ?it/s]"
      ]
     },
     "metadata": {},
     "output_type": "display_data"
    },
    {
     "data": {
      "text/html": [
       "<div>\n",
       "<style scoped>\n",
       "    .dataframe tbody tr th:only-of-type {\n",
       "        vertical-align: middle;\n",
       "    }\n",
       "\n",
       "    .dataframe tbody tr th {\n",
       "        vertical-align: top;\n",
       "    }\n",
       "\n",
       "    .dataframe thead th {\n",
       "        text-align: right;\n",
       "    }\n",
       "</style>\n",
       "<table border=\"1\" class=\"dataframe\">\n",
       "  <thead>\n",
       "    <tr style=\"text-align: right;\">\n",
       "      <th></th>\n",
       "      <th>id</th>\n",
       "      <th>title</th>\n",
       "      <th>abstract</th>\n",
       "      <th>abstract_clean</th>\n",
       "    </tr>\n",
       "  </thead>\n",
       "  <tbody>\n",
       "    <tr>\n",
       "      <th>0</th>\n",
       "      <td>4769585118369390189087340060926485915591163442...</td>\n",
       "      <td>Spectral feature mapping with mimic loss for r...</td>\n",
       "      <td>For the task of speech enhancement, local lear...</td>\n",
       "      <td>for the task of speech enhancement  local lear...</td>\n",
       "    </tr>\n",
       "    <tr>\n",
       "      <th>1</th>\n",
       "      <td>7976349412852653205399785718984636615103045675...</td>\n",
       "      <td>Detecting truth, just on parts</td>\n",
       "      <td>We introduce and discuss, through a computatio...</td>\n",
       "      <td>we introduce and discuss  through a computatio...</td>\n",
       "    </tr>\n",
       "    <tr>\n",
       "      <th>2</th>\n",
       "      <td>9304173010254316121188238355449324959015075236...</td>\n",
       "      <td>Failing to Learn: Autonomously Identifying Per...</td>\n",
       "      <td>One of the major open challenges in self-drivi...</td>\n",
       "      <td>one of the major open challenges in self drivi...</td>\n",
       "    </tr>\n",
       "    <tr>\n",
       "      <th>3</th>\n",
       "      <td>6525473766675309646606181528323199963925323625...</td>\n",
       "      <td>Enhancing Evolutionary Conversion Rate Optimiz...</td>\n",
       "      <td>Conversion rate optimization means designing w...</td>\n",
       "      <td>conversion rate optimization means designing w...</td>\n",
       "    </tr>\n",
       "    <tr>\n",
       "      <th>4</th>\n",
       "      <td>1127488343483927770718834009113463814949406094...</td>\n",
       "      <td>Transferable Joint Attribute-Identity Deep Lea...</td>\n",
       "      <td>Most existing person re-identification (re-id)...</td>\n",
       "      <td>most existing person re identification  re id ...</td>\n",
       "    </tr>\n",
       "  </tbody>\n",
       "</table>\n",
       "</div>"
      ],
      "text/plain": [
       "                                                  id  \\\n",
       "0  4769585118369390189087340060926485915591163442...   \n",
       "1  7976349412852653205399785718984636615103045675...   \n",
       "2  9304173010254316121188238355449324959015075236...   \n",
       "3  6525473766675309646606181528323199963925323625...   \n",
       "4  1127488343483927770718834009113463814949406094...   \n",
       "\n",
       "                                               title  \\\n",
       "0  Spectral feature mapping with mimic loss for r...   \n",
       "1                     Detecting truth, just on parts   \n",
       "2  Failing to Learn: Autonomously Identifying Per...   \n",
       "3  Enhancing Evolutionary Conversion Rate Optimiz...   \n",
       "4  Transferable Joint Attribute-Identity Deep Lea...   \n",
       "\n",
       "                                            abstract  \\\n",
       "0  For the task of speech enhancement, local lear...   \n",
       "1  We introduce and discuss, through a computatio...   \n",
       "2  One of the major open challenges in self-drivi...   \n",
       "3  Conversion rate optimization means designing w...   \n",
       "4  Most existing person re-identification (re-id)...   \n",
       "\n",
       "                                      abstract_clean  \n",
       "0  for the task of speech enhancement  local lear...  \n",
       "1  we introduce and discuss  through a computatio...  \n",
       "2  one of the major open challenges in self drivi...  \n",
       "3  conversion rate optimization means designing w...  \n",
       "4  most existing person re identification  re id ...  "
      ]
     },
     "metadata": {},
     "output_type": "display_data"
    }
   ],
   "source": [
    "# Get abstracts from papers in neo4j\n",
    "query = \"\"\"\n",
    "MATCH (p:Paper)\n",
    "RETURN p.id AS id, p.title AS title, p.abstract AS abstract\n",
    "LIMIT 1000\n",
    "\"\"\"\n",
    "print(\"Fetching data...\")\n",
    "papers = neo4j_fetch_data(query, NEO4J_CREDENTIALS)\n",
    "print(\"Done.\")\n",
    "display(papers.head())\n",
    "\n",
    "# Clean the abstracts with regex. Only keep alpha\n",
    "papers[\"abstract_clean\"] = papers[\"abstract\"].progress_apply(lambda x: re.sub(r\"[^a-zA-Z]\", \" \", x))\n",
    "papers[\"abstract_clean\"] = papers[\"abstract_clean\"].progress_apply(lambda x: x.lower())\n",
    "\n",
    "display(papers.head())"
   ]
  },
  {
   "cell_type": "code",
   "execution_count": 15,
   "metadata": {},
   "outputs": [
    {
     "name": "stderr",
     "output_type": "stream",
     "text": [
      "[nltk_data] Downloading package stopwords to\n",
      "[nltk_data]     /home/wilinski/nltk_data...\n",
      "[nltk_data]   Package stopwords is already up-to-date!\n",
      "[nltk_data] Downloading package wordnet to /home/wilinski/nltk_data...\n",
      "[nltk_data]   Package wordnet is already up-to-date!\n"
     ]
    },
    {
     "name": "stdout",
     "output_type": "stream",
     "text": [
      "(0, '0.014*\"image\" + 0.006*\"method\" + 0.006*\"approach\" + 0.006*\"algorithm\"')\n",
      "(1, '0.013*\"network\" + 0.010*\"model\" + 0.006*\"image\" + 0.006*\"learning\"')\n",
      "(2, '0.010*\"model\" + 0.008*\"image\" + 0.007*\"network\" + 0.006*\"method\"')\n",
      "(3, '0.007*\"model\" + 0.006*\"method\" + 0.006*\"image\" + 0.005*\"based\"')\n",
      "(4, '0.008*\"learning\" + 0.008*\"image\" + 0.007*\"method\" + 0.006*\"class\"')\n",
      "(5, '0.011*\"model\" + 0.006*\"learning\" + 0.006*\"show\" + 0.005*\"network\"')\n",
      "(6, '0.009*\"model\" + 0.008*\"feature\" + 0.007*\"network\" + 0.006*\"approach\"')\n",
      "(7, '0.012*\"method\" + 0.011*\"image\" + 0.011*\"network\" + 0.007*\"model\"')\n",
      "(8, '0.006*\"image\" + 0.004*\"model\" + 0.003*\"recruitment\" + 0.003*\"using\"')\n",
      "(9, '0.008*\"data\" + 0.007*\"method\" + 0.007*\"learning\" + 0.007*\"network\"')\n"
     ]
    }
   ],
   "source": [
    "documents = papers[\"abstract\"].tolist()\n",
    "import gensim\n",
    "from gensim import corpora\n",
    "from nltk.corpus import stopwords\n",
    "from nltk.stem.wordnet import WordNetLemmatizer\n",
    "import nltk\n",
    "nltk.download('stopwords')\n",
    "nltk.download('wordnet')\n",
    "\n",
    "# Preprocessing\n",
    "stop = set(stopwords.words('english'))\n",
    "lemma = WordNetLemmatizer()\n",
    "\n",
    "# Ensure only strings are processed\n",
    "texts = [[lemma.lemmatize(word) for word in document.lower().split() if word not in stop]\n",
    "         for document in documents if isinstance(document, str)]\n",
    "\n",
    "# Create a dictionary and corpus needed for Topic Modeling\n",
    "dictionary = corpora.Dictionary(texts)\n",
    "corpus = [dictionary.doc2bow(text) for text in texts]\n",
    "\n",
    "# Apply LDA\n",
    "ldamodel = gensim.models.ldamodel.LdaModel(corpus, num_topics=10, id2word=dictionary, passes=15)\n",
    "\n",
    "# Extract and display topics\n",
    "topics = ldamodel.print_topics(num_words=4)\n",
    "for topic in topics:\n",
    "    print(topic)"
   ]
  },
  {
   "cell_type": "code",
   "execution_count": null,
   "metadata": {},
   "outputs": [],
   "source": [
    "# Using R inside python\n",
    "import rpy2\n",
    "import rpy2.robjects.packages as rpackages\n",
    "from rpy2.robjects.vectors import StrVector\n",
    "from rpy2.robjects.packages import importr\n",
    "utils = rpackages.importr('utils')\n",
    "utils.chooseCRANmirror(ind=1)\n",
    "\n",
    "# Install packages\n",
    "packnames = (\"seededlda\")\n",
    "utils.install_packages(StrVector(packnames))\n",
    "\n",
    "# Load packages\n",
    "seededlda = importr(\"seededlda\")\n",
    "\n",
    "# Create a list of seed words\n"
   ]
  }
 ],
 "metadata": {
  "kernelspec": {
   "display_name": "Python 3",
   "language": "python",
   "name": "python3"
  },
  "language_info": {
   "codemirror_mode": {
    "name": "ipython",
    "version": 3
   },
   "file_extension": ".py",
   "mimetype": "text/x-python",
   "name": "python",
   "nbconvert_exporter": "python",
   "pygments_lexer": "ipython3",
   "version": "3.11.6"
  }
 },
 "nbformat": 4,
 "nbformat_minor": 2
}
